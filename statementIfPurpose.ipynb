{
 "cells": [
  {
   "cell_type": "code",
   "execution_count": 1,
   "metadata": {},
   "outputs": [],
   "source": [
    "import os \n",
    "import openai"
   ]
  },
  {
   "cell_type": "code",
   "execution_count": 2,
   "metadata": {},
   "outputs": [],
   "source": [
    "openai.api_key = \"API_KEY HERE\""
   ]
  },
  {
   "attachments": {},
   "cell_type": "markdown",
   "metadata": {},
   "source": [
    "Model code for Statement of Purpose Generator\n"
   ]
  },
  {
   "cell_type": "code",
   "execution_count": 6,
   "metadata": {},
   "outputs": [
    {
     "name": "stdout",
     "output_type": "stream",
     "text": [
      "Response: Introduction:\n",
      "My name is [Name], and I am a recent graduate from [University Name] where I completed my Bachelor's degree in Business Administration. With the knowledge acquired during my undergraduate studies, I have been inspired to pursue an MBA at University Chester in the United Kingdom. \n",
      "\n",
      "Educational Background & Interests: \n",
      "I believe that having an MBA will benefit me greatly in terms of career development and job opportunities. My educational background has prepared me for this challenge by providing me with the knowledge necessary to succeed in a business-related field. Additionally, throughout my academic journey, I was able to develop strong analytical and problem-solving skills which are essential for any successful professional. Furthermore, as part of my studies, I had taken up several projects related to international markets which helped me gain some insight into global economic trends and conditions. This experience further motivated me towards pursuing higher education abroad so that I can learn more about global business operations while developing new skills along the way. \n",
      "\n",
      "Why UK & Course Selection: \n",
      "The UK is known for its world-class universities which offer high quality programs with rigorous curriculums suited perfectly for those who wish to pursue their dream careers within the corporate sector or set up their own businesses one day. Moreover, due to its geographical location between Europe and North America, it provides excellent networking opportunities with potential employers across different countries worldwide; something that would be beneficial once completing my studies at University Chester’s School of Business Management (SBM). After careful consideration, I chose SBM because it offers a comprehensive program covering all aspects of modern business practices such as economics analysis , financial management , marketing strategies etc . The faculty members are highly experienced professionals who bring real life experiences into classrooms making learning more interesting and relevant .  \n",
      "\n",
      " Why this College/University? : \t\t\t\t\t    As mentioned before , University Chester stands out from other institutions due to its well established reputation amongst top recruiters around Europe . Besides offering internships through various collaborations with leading companies , SBM also provides students access on industry -specific case study competitions as well as speaker series featuring influential businessmen from diverse sectors . These activities give students hands on experience needed when entering professional world later on .  \n",
      "\n",
      " Worth & Opportunities after Completion : Pursuing an MBA from University Chester will enable me gain advanced understanding of current market trends which would help build upon already existing expertise gained during undergraduate level . Upon completion of program , graduates are presented with many exciting job prospects ranging from investment banking roles at multinational firms or even establishing start ups backed by venture capitalists if desired . Also being part of alumni network helps connect individuals seeking similar goals allowing them exchange ideas while creating lasting relationships among peers over time period thus building solid foundation for future successes together  \n",
      "\n",
      " Who Will Afford Fee & Source Of Income : Currently ,my family supports financially but they cannot bear entire expense alone therefore scholarship options available at university shall be explored extensively since these awards significantly reduce tuition fees associated with programme plus provide additional funds towards living expenses during duration stay there .. In addition savings accumulated through summer jobs shall also contribute towards financing cost incurred thus ensuring timely completion without taking loan option\n"
     ]
    }
   ],
   "source": [
    "# Store the context from previous response\n",
    "context = \"\"\n",
    "\n",
    "while True:\n",
    "    prompt = input(\"Enter your question/command: \")\n",
    "    prompt = context + prompt\n",
    "    \n",
    "    if \"statement of purpose\" in prompt.lower() or \"sop\" in prompt.lower():\n",
    "        # Extract university, country and course from prompt\n",
    "        uni_name = input(\"Enter University name: \")\n",
    "        country_name = input(\"Enter Country name: \")\n",
    "        course_name = input(\"Enter Course name: \")\n",
    "        \n",
    "        # Generate statement of purpose\n",
    "        prompt = f\"Write a statement of purpose for University {uni_name} for the country {country_name} for the course {course_name}. It should be written to cater the following: Introduction, Educational background and interest about achieved degree,Why the selected country {country_name}, why selected course, why this college/university, worth and opportunities of the degree after completion, who will afford the fee and what is the source of income of the sponsor\"\n",
    "        \n",
    "        response = openai.Completion.create(\n",
    "            model=\"text-davinci-003\",\n",
    "            prompt=prompt,\n",
    "            temperature=0.54,\n",
    "            max_tokens=1000,\n",
    "            top_p=1,\n",
    "            frequency_penalty=1,\n",
    "            presence_penalty=1,\n",
    "            stop=[\"###\"]\n",
    "        )\n",
    "\n",
    "        generated_text = response[\"choices\"][0][\"text\"]\n",
    "        print(\"Response: \" + generated_text.strip())\n",
    "\n",
    "        # Update the context with generated_text\n",
    "        context = generated_text.strip()\n",
    "    else:\n",
    "        print(\"Sorry, it is out of my domain\")\n",
    "        context = \"\"\n"
   ]
  }
 ],
 "metadata": {
  "kernelspec": {
   "display_name": "Python 3",
   "language": "python",
   "name": "python3"
  },
  "language_info": {
   "codemirror_mode": {
    "name": "ipython",
    "version": 3
   },
   "file_extension": ".py",
   "mimetype": "text/x-python",
   "name": "python",
   "nbconvert_exporter": "python",
   "pygments_lexer": "ipython3",
   "version": "3.8.10"
  },
  "orig_nbformat": 4
 },
 "nbformat": 4,
 "nbformat_minor": 2
}
